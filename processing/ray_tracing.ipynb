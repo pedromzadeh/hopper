{
 "cells": [
  {
   "cell_type": "code",
   "execution_count": null,
   "metadata": {},
   "outputs": [],
   "source": [
    "from analysis.analysis import *\n",
    "import matplotlib.pyplot as plt\n",
    "import os\n",
    "\n",
    "root = \"diff_geoms\"\n",
    "gid = 6\n",
    "default_LC_gid =10"
   ]
  },
  {
   "cell_type": "markdown",
   "metadata": {},
   "source": [
    "Read the raw sim data for a grid ID"
   ]
  },
  {
   "cell_type": "code",
   "execution_count": null,
   "metadata": {},
   "outputs": [],
   "source": [
    "data_root = f\"../_server/sim_data/{root}\"\n",
    "\n",
    "grid_df = read_fulltake(\n",
    "    os.path.join(data_root, f\"fulltake_gid{gid}.parquet\"), scale_position=True\n",
    ")\n",
    "\n",
    "print(\"# of runs:\", grid_df.rid.unique().size)\n",
    "cell_config = yaml.safe_load(\n",
    "    open(os.path.join(f\"../configs/IM/grid_id{gid}/cell.yaml\"), \"rb\")\n",
    ")\n",
    "simbox_config = yaml.safe_load(\n",
    "    open(os.path.join(f\"../configs/IM/grid_id{gid}/simbox.yaml\"), \"rb\")\n",
    ")"
   ]
  },
  {
   "cell_type": "markdown",
   "metadata": {},
   "source": [
    "---"
   ]
  },
  {
   "cell_type": "code",
   "execution_count": null,
   "metadata": {},
   "outputs": [],
   "source": [
    "simbox_config[\"substrate\"]"
   ]
  },
  {
   "cell_type": "code",
   "execution_count": null,
   "metadata": {},
   "outputs": [],
   "source": [
    "from substrate.substrates import Substrate\n",
    "\n",
    "chi = Substrate(200, 50, 0.2).mixed_two_state_sub(simbox_config[\"substrate\"][\"basin_dims\"], simbox_config[\"substrate\"][\"bridge_dim\"])"
   ]
  },
  {
   "cell_type": "code",
   "execution_count": null,
   "metadata": {},
   "outputs": [],
   "source": [
    "xy = grid_df[[\"x\", \"y\"]].values\n",
    "\n",
    "fig, ax = plt.subplots(1, 2, figsize=(6, 3))\n",
    "ax[0].imshow(chi, cmap=\"Greys_r\", alpha=0.5, extent=[0, 50, 0, 50], origin=\"lower\")\n",
    "ax[0].set_xlim((25-12, 25+12))\n",
    "ax[0].set_ylim((25-12, 25+12))\n",
    "ax[1].hist(xy[:, 0], bins=50, density=True)\n",
    "ax[1].set_xlabel(r\"$x$ [$\\mu$m]\")\n",
    "fig.tight_layout()\n",
    "plt.show()"
   ]
  },
  {
   "cell_type": "code",
   "execution_count": null,
   "metadata": {},
   "outputs": [],
   "source": [
    "np.where(xy[:, 0] <= (150 - simbox_config[\"substrate\"][\"bridge_dim\"][0]/2))[0].size / xy[:, 0].size"
   ]
  },
  {
   "cell_type": "code",
   "execution_count": null,
   "metadata": {},
   "outputs": [],
   "source": [
    "np.where(xy[:, 0] >= (150 + simbox_config[\"substrate\"][\"bridge_dim\"][0]/2))[0].size / xy[:, 0].size"
   ]
  },
  {
   "cell_type": "code",
   "execution_count": null,
   "metadata": {},
   "outputs": [],
   "source": [
    "0.4754939236111111 + 0.3425390625"
   ]
  }
 ],
 "metadata": {
  "kernelspec": {
   "display_name": "hopper",
   "language": "python",
   "name": "python3"
  },
  "language_info": {
   "codemirror_mode": {
    "name": "ipython",
    "version": 3
   },
   "file_extension": ".py",
   "mimetype": "text/x-python",
   "name": "python",
   "nbconvert_exporter": "python",
   "pygments_lexer": "ipython3",
   "version": "3.10.12"
  }
 },
 "nbformat": 4,
 "nbformat_minor": 4
}
