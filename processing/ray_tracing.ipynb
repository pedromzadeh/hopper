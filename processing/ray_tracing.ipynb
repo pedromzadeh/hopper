{
 "cells": [
  {
   "cell_type": "code",
   "execution_count": null,
   "metadata": {},
   "outputs": [],
   "source": [
    "from analysis.analysis import *\n",
    "import matplotlib.pyplot as plt\n",
    "import os\n",
    "\n",
    "root = \"defaults\"\n",
    "gid = 108\n",
    "default_LC_gid = 10"
   ]
  },
  {
   "cell_type": "markdown",
   "metadata": {},
   "source": [
    "Read the raw sim data for a grid ID"
   ]
  },
  {
   "cell_type": "code",
   "execution_count": null,
   "metadata": {},
   "outputs": [],
   "source": [
    "data_root = f\"/mnt/c/Users/pedro/OneDrive - Johns Hopkins/Documents/Research/hopper/_server/sim_data/{root}\"\n",
    "\n",
    "grid_df = read_fulltake(\n",
    "    os.path.join(data_root, f\"parquets/fulltake_gid{gid}.parquet\"), scale_position=True\n",
    ")\n",
    "\n",
    "grid_df.rid.unique().size, yaml.safe_load(\n",
    "    open(os.path.join(data_root, f\"configs/grid_id{gid}/cell.yaml\"), \"rb\")\n",
    "), yaml.safe_load(\n",
    "    open(os.path.join(data_root, f\"configs/grid_id{gid}/simbox.yaml\"), \"rb\")\n",
    ")"
   ]
  },
  {
   "cell_type": "markdown",
   "metadata": {},
   "source": [
    "Histogram of hopping times _vs._ default limit-cycle cell"
   ]
  },
  {
   "cell_type": "code",
   "execution_count": null,
   "metadata": {},
   "outputs": [],
   "source": [
    "try:\n",
    "    plt.figure(figsize=(3, 2), dpi=100)\n",
    "    plt.hist(\n",
    "        np.load(f\"../_server/sim_data/{root}/hopping times/fulltake_gid{gid}.npy\"),\n",
    "        density=True,\n",
    "        bins=40,\n",
    "        alpha=0.75,\n",
    "        color=\"cornflowerblue\",\n",
    "        label=f\"Grid {gid}\",\n",
    "    )\n",
    "    plt.hist(\n",
    "        np.load(f\"../_server/sim_data/{root}/hopping times/fulltake_gid{10}.npy\"),\n",
    "        density=True,\n",
    "        bins=40,\n",
    "        alpha=0.75,\n",
    "        color=\"salmon\",\n",
    "        label=f\"Grid {default_LC_gid}\",\n",
    "    )\n",
    "    plt.xlabel(\"Hopping times (hr)\")\n",
    "    plt.legend()\n",
    "    plt.show()\n",
    "except FileNotFoundError:\n",
    "    print(\"Make sure to first run compute_hopping_times.py\")"
   ]
  },
  {
   "cell_type": "markdown",
   "metadata": {},
   "source": [
    "Apply a time filter (min) to raw data and compute $x, v, a$\n",
    "- Sims collect at a rate of 3 min"
   ]
  },
  {
   "cell_type": "code",
   "execution_count": null,
   "metadata": {},
   "outputs": [],
   "source": [
    "grid_df_samples = apply_time_filter(grid_df, dt=3, base_rate=3)\n",
    "\n",
    "nbins = 32\n",
    "xva_df = get_xva_df(\n",
    "    grid_df_samples,\n",
    "    nbins,\n",
    "    yfile=os.path.join(data_root, f\"configs/grid_id{gid}/simbox.yaml\"),\n",
    ")"
   ]
  },
  {
   "cell_type": "code",
   "execution_count": null,
   "metadata": {},
   "outputs": [],
   "source": [
    "arr = np.ones(shape=(nbins, nbins)) * np.nan\n",
    "indx = np.array(n.index.tolist())[:, ::-1]\n",
    "arr[indx[:, 0], indx[:, 1]] = n.values"
   ]
  },
  {
   "cell_type": "code",
   "execution_count": null,
   "metadata": {},
   "outputs": [],
   "source": [
    "plt.figure(figsize=(3, 3))\n",
    "plt.imshow(np.log(arr), extent=[0, 50, 0, 50], origin=\"lower\")\n",
    "plt.colorbar()"
   ]
  },
  {
   "attachments": {},
   "cell_type": "markdown",
   "metadata": {},
   "source": [
    "Plot of $F(x, v)$ with streamlines and $\\sigma(x, v)$"
   ]
  },
  {
   "cell_type": "code",
   "execution_count": null,
   "metadata": {},
   "outputs": [],
   "source": [
    "def dynamicsplot(ax, F, bounds, labels, end_pts, delta=1, **kwargs):\n",
    "    X, Y, init_pts = full_lattice(F, *bounds)\n",
    "\n",
    "    # raw\n",
    "    v, f = evaluate_F_v_x0(Y, F, bounds[-1], delta=delta)\n",
    "    lim = np.fabs([v.min(), v.max()]).min()\n",
    "    v_interp = np.linspace(-lim, lim, 30)\n",
    "    f_interp = np.interp(v_interp, v, f)\n",
    "\n",
    "    kwargs = {\"lw\": 2, \"color\": \"black\"} | kwargs\n",
    "    ax.plot(v_interp, f_interp, \"-o\", **kwargs)\n",
    "    ax.grid(which=\"major\")\n",
    "    ax.set_xlabel(r\"$v$ ($\\mu$m/hr)\")\n",
    "    ax.set_ylabel(r\"$F(x\\rightarrow 0, v)$ ($\\mu$m/hr$^2$)\")\n",
    "\n",
    "\n",
    "bounds, F, sigma = compute_F_sigma(xva_df, nbins=nbins, min_pts=2)\n",
    "xmin, xmax = bounds[\"x\"]\n",
    "vmin, vmax = bounds[\"v\"]\n",
    "bounds = (xmin, xmax, vmin, vmax, nbins)\n",
    "\n",
    "dynamicsplot(plt.gca(), F, bounds, \"\", \"\")"
   ]
  },
  {
   "cell_type": "code",
   "execution_count": null,
   "metadata": {},
   "outputs": [],
   "source": [
    "bounds, F, sigma = compute_F_sigma(xva_df, nbins=nbins, min_pts=2)\n",
    "\n",
    "xmin, xmax = bounds[\"x\"]\n",
    "vmin, vmax = bounds[\"v\"]\n",
    "x_c = (xmax + xmin) / 2\n",
    "xmin, xmax = np.array([xmin, xmax]) - x_c  # center along x\n",
    "bounds_tup = (xmin, xmax, vmin, vmax, nbins)\n",
    "\n",
    "plot_title = make_title(xva_df)\n",
    "title = {\"label\": plot_title, \"fontsize\": 20}\n",
    "\n",
    "# init_pts[:, 1] += 20\n",
    "fig, ax = plt.subplots(1, 2, figsize=(11, 3), dpi=300)\n",
    "\n",
    "X, Y, init_pts = full_lattice(F, xmin, xmax, vmin, vmax, nbins)\n",
    "init_pts = linear_lattice(xmin, xmax, vmin, vmax, n_pts=100, s=1)\n",
    "\n",
    "ax[0].set_title(**title)\n",
    "ax[0].axhline(y=0, lw=1, color=\"black\", zorder=2)\n",
    "\n",
    "F_streamplot(\n",
    "    F,\n",
    "    bounds_tup,\n",
    "    stream_init_pts=init_pts,\n",
    "    imshow_kwargs={\"interpolation\": \"bilinear\", \"origin\": \"lower\", \"cmap\": \"jet\"},\n",
    "    streamplot_kwargs={\n",
    "        \"integration_direction\": \"forward\",\n",
    "        \"color\": \"black\",\n",
    "        \"broken_streamlines\": False,\n",
    "        \"density\": 1,\n",
    "        \"linewidth\": 0.4,\n",
    "    },\n",
    "    do_try=True,\n",
    "    vector_field=False,\n",
    "    ax=ax[0],\n",
    ")\n",
    "\n",
    "if gid == -1:\n",
    "    import pickle\n",
    "\n",
    "    data = pickle.load(open(f\"maps/map_{gid}.pkl\", \"rb\"))\n",
    "    end_pts = data[\"end_pts\"]\n",
    "    ax[0].scatter(\n",
    "        end_pts[:, 0] - x_c,\n",
    "        end_pts[:, 1],\n",
    "        s=50,\n",
    "        color=\"red\",\n",
    "        marker=\"x\",\n",
    "        zorder=10,\n",
    "    )\n",
    "\n",
    "ax[1].remove()\n",
    "ax[0].set_title(\"\")\n",
    "\n",
    "plt.subplots_adjust(wspace=0.5)\n",
    "plt.show()"
   ]
  },
  {
   "cell_type": "code",
   "execution_count": null,
   "metadata": {},
   "outputs": [],
   "source": [
    "_df = grid_df[grid_df.rid == np.random.randint(grid_df.rid.unique().size)]\n",
    "_df.plot(x=\"time[hr]\", y=\"x\", color=\"black\", legend=False)\n",
    "plt.gca().hlines([133, 167], *plt.gca().get_xlim()), _df.iloc[0].seed"
   ]
  },
  {
   "cell_type": "code",
   "execution_count": null,
   "metadata": {},
   "outputs": [],
   "source": [
    "plt.plot(_df.x)"
   ]
  },
  {
   "attachments": {},
   "cell_type": "markdown",
   "metadata": {},
   "source": [
    "Phase separation for bistable cases"
   ]
  },
  {
   "cell_type": "code",
   "execution_count": null,
   "metadata": {},
   "outputs": [],
   "source": [
    "from importlib import reload\n",
    "from analysis import analysis\n",
    "\n",
    "reload(analysis)\n",
    "from analysis.analysis import lattice_to_image"
   ]
  },
  {
   "cell_type": "code",
   "execution_count": null,
   "metadata": {},
   "outputs": [],
   "source": [
    "X, Y, init_pts = full_lattice(F, xmin, xmax, vmin, vmax, nbins)\n",
    "\n",
    "labels, end_pts = get_labels(init_pts, X, Y, F, x_L=135, x_R=165)\n",
    "end_pts = np.array(end_pts)\n",
    "set(labels)"
   ]
  },
  {
   "cell_type": "code",
   "execution_count": null,
   "metadata": {},
   "outputs": [],
   "source": [
    "# labels_ = np.where(np.array(labels) == \"wheat\", \"gainsboro\", labels)\n",
    "img = lattice_to_image(init_pts, labels, bounds_tup)\n",
    "\n",
    "\n",
    "arr = np.where(img == 1, 0, 1)\n",
    "X = get_separatrices(img, levels=[1.5], origin=\"lower\", extent=[xmin, xmax, vmin, vmax])\n",
    "\n",
    "arr = np.where(img == 1, 1, 0)\n",
    "X2 = get_separatrices(\n",
    "    arr, levels=[0.5], origin=\"lower\", extent=[xmin, xmax, vmin, vmax]\n",
    ")\n",
    "\n",
    "# plot\n",
    "plt.figure(figsize=(3, 3), dpi=300)\n",
    "plt.vlines(\n",
    "    x=135, ymin=vmin, ymax=vmax, linewidth=1, colors=[\"black\"], linestyles=[\"dashed\"]\n",
    ")\n",
    "plt.vlines(\n",
    "    x=165, ymin=vmin, ymax=vmax, linewidth=1, colors=[\"black\"], linestyles=[\"dashed\"]\n",
    ")\n",
    "\n",
    "plt.scatter(init_pts[:, 0], init_pts[:, 1], color=labels, s=5)\n",
    "# plt.plot(X[:, 0], X[:, 1], lw=1.5, color=\"black\")\n",
    "plt.plot(X2[:, 0], X2[:, 1], lw=1.5, color=\"black\")\n",
    "\n",
    "# plt.scatter(end_pts[:, 0], end_pts[:, 1], marker=\"*\", s=10, color=\"black\")\n",
    "plt.xlabel(r\"$x$ ($\\mu$m)\")\n",
    "plt.ylabel(r\"$v$ ($\\mu$m/hr)\")\n",
    "\n",
    "xlim = plt.xlim()\n",
    "ylim = plt.ylim()\n",
    "\n",
    "# Add fancy legends\n",
    "import matplotlib.patches as mpatches\n",
    "\n",
    "legend_dict = {\n",
    "    \"salmon\": mpatches.Patch(color=\"salmon\", label=\"Left\"),\n",
    "    \"cornflowerblue\": mpatches.Patch(color=\"cornflowerblue\", label=\"Right\"),\n",
    "    \"wheat\": mpatches.Patch(color=\"wheat\", label=\"Middle\"),\n",
    "    \"red\": mpatches.Patch(color=\"red\", label=\"Unkn\"),\n",
    "}\n",
    "legend = []\n",
    "for c in np.unique(labels):\n",
    "    legend.append(legend_dict[c]) if c != \"gainsboro\" else None\n",
    "plt.legend(handles=legend, bbox_to_anchor=(1.01, 1))\n",
    "plt.show()"
   ]
  },
  {
   "cell_type": "code",
   "execution_count": null,
   "metadata": {},
   "outputs": [],
   "source": [
    "sys.exit(01)"
   ]
  },
  {
   "cell_type": "code",
   "execution_count": null,
   "metadata": {},
   "outputs": [],
   "source": [
    "def process_gid(gid):\n",
    "    import pickle\n",
    "\n",
    "    data = pickle.load(open(f\"maps/map_{gid}.pkl\", \"rb\"))\n",
    "    if len(data[\"labels\"]) > 0:\n",
    "        return data[\"F\"], data[\"bounds\"], data[\"labels\"], data[\"end_pts\"]\n",
    "    return data[\"F\"], data[\"bounds\"]"
   ]
  },
  {
   "cell_type": "code",
   "execution_count": null,
   "metadata": {},
   "outputs": [],
   "source": [
    "F, bounds, labels, end_pts = process_gid(110)\n",
    "xmin, xmax, vmin, vmax, nbins = bounds\n",
    "\n",
    "np.vstack(np.meshgrid(np.arange(nbins), np.arange(nbins)))"
   ]
  },
  {
   "cell_type": "code",
   "execution_count": null,
   "metadata": {},
   "outputs": [],
   "source": [
    "dx = (xmax - xmin) / nbins\n",
    "dv = (vmax - vmin) / nbins\n",
    "X, Y = np.meshgrid(np.arange(nbins), np.arange(nbins))\n",
    "X = X * dx + xmin + dx / 2\n",
    "Y = Y * dv + vmin + dv / 2\n",
    "init_pts = np.hstack([X.reshape(-1, 1), Y.reshape(-1, 1)])\n",
    "\n",
    "labels, end_pts = get_labels(init_pts, X, Y, F, x_L=135, x_R=165)"
   ]
  },
  {
   "cell_type": "code",
   "execution_count": null,
   "metadata": {},
   "outputs": [],
   "source": [
    "img = lattice_to_image(init_pts, labels, bounds)\n",
    "\n",
    "arr = np.where(img == 1, 0, 1)\n",
    "X = get_separatrices(arr, levels=[0.5], origin=\"lower\", extent=[xmin, xmax, vmin, vmax])\n",
    "\n",
    "arr = np.where(img == 1, 1, 0)\n",
    "X2 = get_separatrices(\n",
    "    arr, levels=[0.01], origin=\"lower\", extent=[xmin, xmax, vmin, vmax]\n",
    ")\n",
    "\n",
    "# plot\n",
    "plt.figure(figsize=(3, 3), dpi=300)\n",
    "plt.vlines(\n",
    "    x=135, ymin=vmin, ymax=vmax, linewidth=1, colors=[\"black\"], linestyles=[\"dashed\"]\n",
    ")\n",
    "plt.vlines(\n",
    "    x=165, ymin=vmin, ymax=vmax, linewidth=1, colors=[\"black\"], linestyles=[\"dashed\"]\n",
    ")\n",
    "\n",
    "plt.scatter(init_pts[:, 0], init_pts[:, 1], color=labels, s=5)\n",
    "# plt.plot(X[:, 0], X[:, 1], lw=2, color=\"black\")\n",
    "plt.plot(X2[:, 0], X2[:, 1], lw=2, color=\"black\")\n",
    "\n",
    "# plt.scatter(end_pts[:, 0], end_pts[:, 1], marker=\"*\", s=10, color=\"black\")\n",
    "plt.xlabel(r\"$x$ ($\\mu$m)\")\n",
    "plt.ylabel(r\"$v$ ($\\mu$m/hr)\")\n",
    "\n",
    "xlim = plt.xlim()\n",
    "ylim = plt.ylim()\n",
    "\n",
    "# Add fancy legends\n",
    "import matplotlib.patches as mpatches\n",
    "\n",
    "legend_dict = {\n",
    "    \"salmon\": mpatches.Patch(color=\"salmon\", label=\"Left\"),\n",
    "    \"cornflowerblue\": mpatches.Patch(color=\"cornflowerblue\", label=\"Right\"),\n",
    "    \"wheat\": mpatches.Patch(color=\"wheat\", label=\"Middle\"),\n",
    "    \"red\": mpatches.Patch(color=\"red\", label=\"Unkn\"),\n",
    "}\n",
    "legend = []\n",
    "for c in np.unique(labels):\n",
    "    legend.append(legend_dict[c]) if c != \"gainsboro\" else None\n",
    "plt.legend(handles=legend, bbox_to_anchor=(1.01, 1))\n",
    "# plt.xlim((135, 165))\n",
    "# plt.ylim((-20, 20))\n",
    "plt.show()"
   ]
  },
  {
   "cell_type": "code",
   "execution_count": null,
   "metadata": {},
   "outputs": [],
   "source": [
    "class IntegrateF:\n",
    "    def __init__(self, X, V, F):\n",
    "        self.X = X\n",
    "        self.V = V\n",
    "        self.F = F\n",
    "\n",
    "    def integrate(self, x0, v0, T, seed=0):\n",
    "        x = [x0]\n",
    "        v = [v0]\n",
    "        delta_t = 0.00075 * 8 / 60  # hr\n",
    "        delta_t = 0.01\n",
    "\n",
    "        rng = np.random.default_rng(seed=seed)\n",
    "\n",
    "        for t in range(1, T):\n",
    "            if np.isnan([x[t - 1], v[t - 1]]).any() or not (\n",
    "                self.X.min() <= x[t - 1] <= self.X.max()\n",
    "                and self.V.min() <= v[t - 1] <= self.V.max()\n",
    "            ):\n",
    "                break\n",
    "\n",
    "            i, j = self.get_bin_index(x[t - 1], v[t - 1], self.X, self.V)\n",
    "            _x = x[t - 1] + v[t - 1] * delta_t\n",
    "            _v = v[t - 1] + self.F[i, j] * delta_t\n",
    "            x.append(_x)\n",
    "            v.append(_v)\n",
    "        return np.vstack([x, v]).T\n",
    "\n",
    "    @staticmethod\n",
    "    def get_bin_index(x, v, X, V):\n",
    "        return np.searchsorted(V, v, side=\"left\"), np.searchsorted(X, x, side=\"left\")\n",
    "\n",
    "\n",
    "F, bounds, labels, end_pts = process_gid(10)\n",
    "xmin, xmax, vmin, vmax, nbins = bounds\n",
    "X, V, init_pts = full_lattice(F, *bounds)\n",
    "X = X[0]\n",
    "V = V[:, 0]\n",
    "\n",
    "integrator = IntegrateF(X, V, F)\n",
    "k = 30\n",
    "x_traj = integrator.integrate(*init_pts[k], T=500)\n",
    "\n",
    "plt.imshow(F, origin=\"lower\", extent=[xmin, xmax, vmin, vmax])\n",
    "plt.scatter(*init_pts[k], s=40, color=\"red\")\n",
    "plt.scatter(x_traj[:, 0], x_traj[:, 1], s=10, color=\"cyan\")\n",
    "plt.axis(\"auto\")"
   ]
  },
  {
   "cell_type": "code",
   "execution_count": null,
   "metadata": {},
   "outputs": [],
   "source": [
    "import sys\n",
    "\n",
    "sys.exit(1)"
   ]
  }
 ],
 "metadata": {
  "kernelspec": {
   "display_name": "hopper",
   "language": "python",
   "name": "python3"
  },
  "language_info": {
   "codemirror_mode": {
    "name": "ipython",
    "version": 3
   },
   "file_extension": ".py",
   "mimetype": "text/x-python",
   "name": "python",
   "nbconvert_exporter": "python",
   "pygments_lexer": "ipython3",
   "version": "3.10.12"
  }
 },
 "nbformat": 4,
 "nbformat_minor": 4
}
