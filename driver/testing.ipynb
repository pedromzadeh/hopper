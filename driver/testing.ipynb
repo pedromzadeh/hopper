{
 "cells": [
  {
   "attachments": {},
   "cell_type": "markdown",
   "metadata": {},
   "source": [
    "### Define configuration files"
   ]
  },
  {
   "cell_type": "code",
   "execution_count": null,
   "metadata": {},
   "outputs": [],
   "source": [
    "from box.sim_box import SimulationBox\n",
    "from potential.force import Force\n",
    "from cell.cell import Cell\n",
    "from substrate.substrates import Substrate\n",
    "from helper_functions import helper_functions as hf\n",
    "from visuals.figure import Figure\n",
    "from polarity import polarity\n",
    "\n",
    "import matplotlib.pyplot as plt\n",
    "import glob\n",
    "import pandas as pd\n",
    "import numpy as np\n",
    "import os\n",
    "import time\n"
   ]
  },
  {
   "cell_type": "markdown",
   "metadata": {},
   "source": [
    "### Some random functions"
   ]
  },
  {
   "cell_type": "code",
   "execution_count": null,
   "metadata": {},
   "outputs": [],
   "source": [
    "def _masked(arr, masker):\n",
    "    arr_masked = np.ones(arr.shape) * np.nan\n",
    "    i, j = np.where(masker >= 0.5)\n",
    "    arr_masked[i, j] = arr[i, j]\n",
    "    return arr_masked\n",
    "\n",
    "\n",
    "def plot_probs(cell, p1, p2, p, c, time, p_ratio):\n",
    "\n",
    "    cntr = cell.contour[0][:, ::-1]\n",
    "\n",
    "    if not isinstance(p1, np.ndarray):\n",
    "        p1 = np.array([p1] * cntr.shape[0])\n",
    "\n",
    "    if not isinstance(p2, np.ndarray):\n",
    "        p2 = np.array([p2] * cntr.shape[0])\n",
    "\n",
    "    plt.figure(figsize=(10, 10))\n",
    "    plt.subplot(221)\n",
    "    plt.title(\"filopodia\")\n",
    "    plt.scatter(cntr[:, 0], cntr[:, 1], c=p1, cmap=\"coolwarm\")\n",
    "    plt.colorbar()\n",
    "\n",
    "    plt.subplot(222)\n",
    "    plt.title(\"feedback\")\n",
    "    plt.scatter(cntr[:, 0], cntr[:, 1], c=p2, cmap=\"coolwarm\")\n",
    "    plt.colorbar()\n",
    "    plt.scatter(*c, color=\"black\", s=20)\n",
    "\n",
    "    plt.subplot(223)\n",
    "    plt.title(\"total\")\n",
    "    plt.scatter(cntr[:, 0], cntr[:, 1], c=p, cmap=\"coolwarm\")\n",
    "    plt.colorbar()\n",
    "\n",
    "    plt.subplot(224)\n",
    "    plt.title(\"Tension\")\n",
    "    plt.plot(time, p_ratio)\n",
    "    plt.xlabel(\"Time\")\n",
    "    plt.ylabel(r\"$P/P_0$\")\n",
    "\n",
    "    plt.subplots_adjust(wspace=0.5, hspace=0.5)\n",
    "    plt.show()\n"
   ]
  },
  {
   "attachments": {},
   "cell_type": "markdown",
   "metadata": {},
   "source": [
    "### Initialize system"
   ]
  },
  {
   "cell_type": "code",
   "execution_count": null,
   "metadata": {},
   "outputs": [],
   "source": [
    "def _build_system(simbox, cell_config, cell_rng_seed):\n",
    "    # unpack\n",
    "    N_mesh, L_box = simbox.N_mesh, simbox.L_box\n",
    "\n",
    "    # define base substrate\n",
    "    sub_config = simbox.sub_config\n",
    "    xi = sub_config[\"xi\"]\n",
    "    kind = sub_config[\"kind\"]\n",
    "    # buffer = sub_config[\"buffer\"]\n",
    "    sub = Substrate(N_mesh, L_box, xi)\n",
    "    if kind == \"two-state\":\n",
    "        chi = sub.two_state_sub(bridge_width=15)\n",
    "    elif kind == \"rectangular\":\n",
    "        chi = sub.rectangular()\n",
    "    else:\n",
    "        raise ValueError(f\"{kind} for substrate is not understood.\")\n",
    "\n",
    "    # initialize cells\n",
    "    # set the cumulative substrate they will interact with\n",
    "    cell = Cell(cell_config[0], simbox, cell_rng_seed)\n",
    "    cell.W = 0.5 * cell.g * chi\n",
    "\n",
    "    return cell, chi\n",
    "\n",
    "\n",
    "def _define_paths():\n",
    "    SIMBOX_CONFIG = \"sub.yaml\"\n",
    "    ENERGY_CONFIG = \"../configs/energy.yaml\"\n",
    "\n",
    "    CELL_CONFIG = [\"cell.yaml\"]\n",
    "\n",
    "    return dict(\n",
    "        simbox=SIMBOX_CONFIG,\n",
    "        energy=ENERGY_CONFIG,\n",
    "        cell=CELL_CONFIG,\n",
    "    )\n",
    "\n",
    "\n",
    "def _mvg_generator(cell):\n",
    "    import numpy as np\n",
    "    from polarity.mvgaussian import MVGaussian\n",
    "\n",
    "    N_mesh = cell.simbox.N_mesh\n",
    "    d = np.linspace(0, N_mesh, N_mesh)\n",
    "    x, y = np.meshgrid(d, d)\n",
    "    X = np.array(list(zip(x.flatten(), y.flatten())))\n",
    "\n",
    "    cell.mvg_gen = MVGaussian(X)\n"
   ]
  },
  {
   "cell_type": "code",
   "execution_count": null,
   "metadata": {},
   "outputs": [],
   "source": [
    "# define various paths\n",
    "paths = _define_paths()\n",
    "\n",
    "# initialize the simulation box\n",
    "simbox = SimulationBox(\"../configs/simbox.yaml\")\n",
    "seed = int(time.time())\n",
    "cell, chi = _build_system(\n",
    "    simbox, [\"../configs/IM/grid_id0/cell0.yaml\"], cell_rng_seed=seed\n",
    ")\n",
    "\n",
    "# initialize the force calculator\n",
    "force_calculator = Force(paths[\"energy\"])\n",
    "\n",
    "# noise patch -- init MVG generator for the cell\n",
    "_mvg_generator(cell)\n"
   ]
  },
  {
   "attachments": {},
   "cell_type": "markdown",
   "metadata": {},
   "source": [
    "###  🪛  Hyperparameters"
   ]
  },
  {
   "cell_type": "code",
   "execution_count": null,
   "metadata": {},
   "outputs": [],
   "source": [
    "N = 50000\n",
    "cap = 500\n",
    "\n",
    "# # timescales\n",
    "# tau_add_mvg = 5\n",
    "# tau = 0.5\n",
    "# patch_mag = 1000\n",
    "# tau_N = 0.1\n",
    "# tau_x = 0.02\n",
    "# # tau_ten = 0.1\n",
    "# # perim_0 = 2 * np.pi * 4.5\n",
    "\n",
    "# tau_ten = 1\n",
    "# perim_0 = 2 * np.pi * 3.5\n",
    "\n",
    "# pol_model_args = {\n",
    "#     \"tau_add_mvg\": 5,\n",
    "#     \"tau\": tau,\n",
    "#     \"tau_x\": tau_x,\n",
    "#     \"tau_mvg\": tau_N,\n",
    "#     \"tau_ten\": tau_ten,\n",
    "#     \"perim_0\": perim_0,\n",
    "# }\n"
   ]
  },
  {
   "attachments": {},
   "cell_type": "markdown",
   "metadata": {},
   "source": [
    "### Evolve the cell"
   ]
  },
  {
   "cell_type": "code",
   "execution_count": null,
   "metadata": {},
   "outputs": [],
   "source": [
    "t = []\n",
    "p_ratio = []\n",
    "\n",
    "for n in range(N):\n",
    "\n",
    "    grad_x, grad_y, _ = hf.compute_gradients(cell.phi, cell.simbox.dx)\n",
    "    grad_phi = np.array([grad_x, grad_y])\n",
    "    eta = cell.eta\n",
    "    phi = cell.phi\n",
    "    dt = cell.simbox.dt\n",
    "\n",
    "    # contour PMF to add mvg patch\n",
    "    p1 = polarity.cntr_probs_filopodia(cell, grad_phi, chi)\n",
    "    p2 = polarity.cntr_probs_feedback(cell, grad_phi)\n",
    "    cntr_probs = p1 * p2\n",
    "    cntr_probs /= cntr_probs.sum()\n",
    "\n",
    "    # if time is right, add MVG\n",
    "    if n % cell.pol_model_args[\"tau_add_mvg\"] == 0:\n",
    "        mvg_patch = cell.pol_model_args[\"patch_mag\"] * polarity.mvg_patch(\n",
    "            cell, cntr_probs\n",
    "        )\n",
    "    else:\n",
    "        mvg_patch = 0\n",
    "\n",
    "    if n % cap == 0:\n",
    "\n",
    "        t.append(n)\n",
    "        cntr = cell.contour[0][:, ::-1] * cell.simbox.dx\n",
    "        perim = np.sqrt(np.sum(np.diff(cntr, axis=0) ** 2, axis=1)).sum()\n",
    "        p_ratio.append(perim / cell.pol_model_args[\"perim_0\"])\n",
    "\n",
    "        plot_probs(cell, p1, p2, cntr_probs, cell.contour[0][0][::-1], t, p_ratio)\n",
    "\n",
    "        Figure.view_pol_field(\n",
    "            cell,\n",
    "            chi,\n",
    "            dpi=150,\n",
    "            path=f\"../output/IM/grid_id0/run_0/visuals/img_{n//cap}.png\",\n",
    "        )\n",
    "\n",
    "    # phi_(n+1)\n",
    "    phi_i_next, dF_dphi = hf._update_field(cell, grad_phi, force_calculator)\n",
    "    dphi_dt = (phi_i_next - phi) / dt\n",
    "\n",
    "    # polarization field (n+1)\n",
    "    p_field_next = polarity.update_field(cell, chi, mvg_patch, cell.pol_model_args)\n",
    "\n",
    "    # compute motility forces at time n\n",
    "    fx_motil, fy_motil = force_calculator.cyto_motility_force(cell, grad_phi, chi)\n",
    "\n",
    "    # compute thermodynamic forces at time n\n",
    "    fx_thermo = dF_dphi * grad_x\n",
    "    fy_thermo = dF_dphi * grad_y\n",
    "\n",
    "    # UPDATE class variables now\n",
    "    cell.phi = phi_i_next\n",
    "    cell.p_field = p_field_next\n",
    "    cell.contour = hf.find_contour(cell.phi)\n",
    "    cell.cm = hf.compute_CM(cell)\n",
    "    cell.v_cm = hf.compute_v_CM(cell)\n",
    "    cell.vx = (fx_thermo + fx_motil) / eta\n",
    "    cell.vy = (fy_thermo + fy_motil) / eta\n"
   ]
  },
  {
   "attachments": {},
   "cell_type": "markdown",
   "metadata": {},
   "source": [
    "---"
   ]
  },
  {
   "attachments": {},
   "cell_type": "markdown",
   "metadata": {},
   "source": [
    "### Debugging"
   ]
  }
 ],
 "metadata": {
  "kernelspec": {
   "display_name": "hopper",
   "language": "python",
   "name": "python3"
  },
  "language_info": {
   "codemirror_mode": {
    "name": "ipython",
    "version": 3
   },
   "file_extension": ".py",
   "mimetype": "text/x-python",
   "name": "python",
   "nbconvert_exporter": "python",
   "pygments_lexer": "ipython3",
   "version": "3.10.10"
  },
  "orig_nbformat": 4,
  "vscode": {
   "interpreter": {
    "hash": "14c0dfe1de6757626902d086a1737c2ce40eb66bd3b915607a7e548f0fcc1852"
   }
  }
 },
 "nbformat": 4,
 "nbformat_minor": 2
}
