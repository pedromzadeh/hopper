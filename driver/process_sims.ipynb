{
 "cells": [
  {
   "cell_type": "markdown",
   "metadata": {},
   "source": [
    "# Dynamics via acceleration maps"
   ]
  },
  {
   "attachments": {},
   "cell_type": "markdown",
   "metadata": {},
   "source": [
    "- `medium` dataset has `n_stats = 500`\n",
    "- `large` dataset has `n_stats = 250`\n",
    "- `varying target area` dataset has `n_stats = 250`\n",
    "\n"
   ]
  },
  {
   "cell_type": "code",
   "execution_count": null,
   "metadata": {},
   "outputs": [],
   "source": [
    "import matplotlib.pyplot as plt\n",
    "import numpy as np\n",
    "import pandas as pd\n",
    "\n",
    "from analysis import analysis\n",
    "\n",
    "from importlib import reload \n",
    "\n",
    "L_box = 50\n",
    "mu_factor = 6  # conversion to microns\n",
    "min_factor = 8  # conversion to minutes"
   ]
  },
  {
   "attachments": {},
   "cell_type": "markdown",
   "metadata": {},
   "source": [
    "#### Load grid by grid\n",
    "- Load `fulltake_gid*.pkl`, which is all of the runs for a config"
   ]
  },
  {
   "cell_type": "code",
   "execution_count": null,
   "metadata": {},
   "outputs": [],
   "source": [
    "from glob import glob\n",
    "\n",
    "files = glob(\"sim data/fulltake_gid[0-9].pkl\")\n",
    "data = []\n",
    "\n",
    "for file in files:\n",
    "    df = pd.read_pickle(file)\n",
    "    \n",
    "    df.x *= mu_factor\n",
    "    df.y *= mu_factor\n",
    "    data.append(df)\n",
    "\n",
    "print(f\"Loaded {len(data)} configurations.\")\n",
    "[\n",
    "    print(\n",
    "        f\"\\t - Grid {df.gid.iloc[0]}: {len(df)} total data points | {len(df.rid.unique())} runs | {len(df[df.rid==0])} data points / run\"\n",
    "    )\n",
    "    for df in data\n",
    "]\n",
    "display(data[0])\n"
   ]
  },
  {
   "attachments": {},
   "cell_type": "markdown",
   "metadata": {},
   "source": [
    "#### Calculate $\\{v, a\\}$ and bin $\\{x, v, a\\}$"
   ]
  },
  {
   "cell_type": "code",
   "execution_count": null,
   "metadata": {},
   "outputs": [],
   "source": [
    "global_x_v_a = []\n",
    "\n",
    "for df_gid in data:\n",
    "\n",
    "    # x, v, a values for this entire config\n",
    "    grid_x_v_a = []\n",
    "\n",
    "    # compute speed and acc for each run\n",
    "    for rid, df_rid in df_gid.groupby(\"rid\"):\n",
    "        x_v_a = analysis.calc_v_a_from_position(df_rid.x, df_rid[\"time[hr]\"])\n",
    "        x_v_a[df_gid.iloc[0][5:].index] = data[0].iloc[0][5:]\n",
    "        grid_x_v_a.append(x_v_a)\n",
    "\n",
    "    grid_x_v_a = pd.concat(grid_x_v_a)\n",
    "    \n",
    "    # with a 112mu mp, this gives bins of dim 3.5mu x 3.5mu\n",
    "    nbins = 32\n",
    "    analysis.get_bin_indices(grid_x_v_a, nbins)\n",
    "\n",
    "    global_x_v_a.append(grid_x_v_a)\n",
    "\n",
    "# global_x_v_a = pd.concat(global_x_v_a)\n",
    "global_x_v_a[0]"
   ]
  },
  {
   "attachments": {},
   "cell_type": "markdown",
   "metadata": {},
   "source": [
    "## Acceleration maps and flow lines"
   ]
  },
  {
   "cell_type": "code",
   "execution_count": null,
   "metadata": {},
   "outputs": [],
   "source": [
    "dt = 0.002 * 250 * 8 / 60\n",
    "F, sigma = analysis.calc_F_sigma(global_x_v_a[0], dt, nbins, min_pts=2)\n",
    "\n",
    "bounds = global_x_v_a[0].agg([\"min\", \"max\"])\n",
    "xmin, xmax = bounds[\"x\"]\n",
    "vmin, vmax = bounds[\"v\"]\n",
    "beta = global_x_v_a[0].beta.iloc[0]\n",
    "gamma = global_x_v_a[0].gamma.iloc[0]\n",
    "D = global_x_v_a[0].D.iloc[0]\n",
    "\n",
    "title_str = rf\"$\\beta$ = {beta}, $\\gamma$ = {gamma}, $D$ = {D}\"\n",
    "\n",
    "bounds = (xmin, xmax, vmin, vmax, nbins)\n",
    "title = {\"title\" : title_str, \"size\" : 20}\n",
    "\n",
    "analysis.imshow_F_sigma([F, sigma], bounds, title, interp=\"bilinear\")"
   ]
  },
  {
   "attachments": {},
   "cell_type": "markdown",
   "metadata": {},
   "source": [
    "### Position dist"
   ]
  },
  {
   "cell_type": "code",
   "execution_count": null,
   "metadata": {},
   "outputs": [],
   "source": [
    "reload(analysis)\n",
    "\n",
    "plt.rc('axes', titlesize=8)\n",
    "analysis.position_dist(data, \"two_state\", mu_factor)"
   ]
  },
  {
   "cell_type": "markdown",
   "metadata": {},
   "source": [
    "### Hopping times"
   ]
  },
  {
   "cell_type": "code",
   "execution_count": null,
   "metadata": {},
   "outputs": [],
   "source": [
    "fig, axs = plt.subplots(3, 3, figsize=(8, 6), dpi=200)\n",
    "plt.rc('axes', titlesize=12)\n",
    "\n",
    "x, y = np.meshgrid([0, 1, 2], [0, 1, 2])\n",
    "\n",
    "# in microns\n",
    "d = 73 / 2\n",
    "xL = (L_box / 2) * 6 - d\n",
    "xR = (L_box / 2) * 6 + d\n",
    "buffer = 38 / 2\n",
    "\n",
    "for i, j, df in zip(x.flatten(), y.flatten(), data):\n",
    "    beta = df.beta.iloc[0]\n",
    "    gamma = df.gamma.iloc[0]\n",
    "    D = df.D.iloc[0]\n",
    "    axs[i, j].set_title(rf\"$\\beta$ = {beta}, $\\gamma$ = {gamma}, $D$ = {D}\", y=1.1)\n",
    "\n",
    "    hop_times = []\n",
    "    for rid, d in df.groupby(\"rid\"):\n",
    "        for t in analysis.get_hopping_times(d, xL, xR, buffer):\n",
    "            hop_times.append(t)\n",
    "\n",
    "    if len(hop_times) == 0:\n",
    "        continue\n",
    "\n",
    "    axs[i, j].hist(hop_times, color=\"red\", alpha=0.5, density=True)\n",
    "    axs[i, j].set_xlabel(\"Hopping time (hr)\", fontsize=14)\n",
    "\n",
    "plt.tight_layout()\n",
    "plt.subplots_adjust(hspace=2, wspace=2)\n",
    "plt.show()\n"
   ]
  }
 ],
 "metadata": {
  "kernelspec": {
   "display_name": "ccam",
   "language": "python",
   "name": "python3"
  },
  "language_info": {
   "codemirror_mode": {
    "name": "ipython",
    "version": 3
   },
   "file_extension": ".py",
   "mimetype": "text/x-python",
   "name": "python",
   "nbconvert_exporter": "python",
   "pygments_lexer": "ipython3",
   "version": "3.10.8"
  },
  "orig_nbformat": 4,
  "vscode": {
   "interpreter": {
    "hash": "9713f7ebc46dc75c7725b05c41e89d9728ea3866542c1de8245d612948f7117b"
   }
  }
 },
 "nbformat": 4,
 "nbformat_minor": 2
}
