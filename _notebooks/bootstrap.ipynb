{
 "cells": [
  {
   "cell_type": "code",
   "execution_count": null,
   "metadata": {},
   "outputs": [],
   "source": [
    "from analysis.analysis import *\n",
    "from tqdm.notebook import tqdm\n",
    "import matplotlib.pyplot as plt\n",
    "import os\n",
    "\n",
    "root = \"corners_only_fixed\"\n",
    "gid = 1\n",
    "save_path = f\"../_server/sim_data/{root}/streamplots/grid {gid}/\"\n",
    "if not os.path.exists(save_path):\n",
    "    os.makedirs(save_path)\n",
    "\n",
    "grid_df = read_fulltake(\n",
    "    f\"../_server/sim_data/corners_only_fixed/parquets/fulltake_gid{gid}.parquet\"\n",
    ")\n",
    "grid_df = apply_time_filter(grid_df, dt=1.5 * grid_df.iloc[0].add_rate)\n"
   ]
  },
  {
   "cell_type": "markdown",
   "metadata": {},
   "source": [
    "Compute original $F(x \\rightarrow 0, v)$"
   ]
  },
  {
   "cell_type": "code",
   "execution_count": null,
   "metadata": {},
   "outputs": [],
   "source": [
    "nbins = 32\n",
    "delta = 2\n",
    "min_pts = 2\n",
    "\n",
    "xva_df = get_xva_df(grid_df, nbins=nbins)\n",
    "bounds, F, sigma = compute_F_sigma(xva_df, nbins=nbins, min_pts=min_pts)\n",
    "\n",
    "xmin, xmax = bounds[\"x\"]\n",
    "vmin, vmax = bounds[\"v\"]\n",
    "\n",
    "X_OG, Y_OG, init_pts = full_lattice(F, xmin, xmax, vmin, vmax, nbins)\n",
    "F_v_x0_OG = F[:, nbins // 2 - delta : nbins // 2 + (delta + 1)].mean(axis=1)\n"
   ]
  },
  {
   "cell_type": "markdown",
   "metadata": {},
   "source": [
    "Get bootstrapped samples\n",
    "- each element contains a full set of runs as if it were a fulltake sim.\n"
   ]
  },
  {
   "cell_type": "code",
   "execution_count": null,
   "metadata": {},
   "outputs": [],
   "source": [
    "from importlib import reload\n",
    "from analysis import analysis\n",
    "\n",
    "reload(analysis)\n",
    "from analysis.analysis import *\n",
    "from time import time\n",
    "\n",
    "fig, ax = plt.subplots(1, 1, figsize=(3, 3), dpi=300)\n",
    "mask = ~np.isnan(F_v_x0_OG)\n",
    "ax.plot(Y_OG[mask, 0], F_v_x0_OG[mask], \"-o\", c=\"black\")\n",
    "ax.set_xlabel(r\"$v$ ($\\mu$m/hr)\")\n",
    "ax.set_ylabel(r\"$F(x\\rightarrow 0)$ ($\\mu$m/hr$^2$)\")\n",
    "\n",
    "M = 20\n",
    "for k in tqdm(range(M), total=M):\n",
    "    sample_grid_df = bootstrap(\n",
    "        grid_df, n_samples=grid_df.rid.unique().size, seed=int(time()) + k\n",
    "    )\n",
    "    sample_xva_df = get_xva_df(sample_grid_df, nbins=nbins)\n",
    "\n",
    "    bounds, F, sigma = compute_F_sigma(sample_xva_df, nbins=nbins, min_pts=2)\n",
    "    xmin, xmax = bounds[\"x\"]\n",
    "    vmin, vmax = bounds[\"v\"]\n",
    "\n",
    "    X, Y, init_pts = full_lattice(F, xmin, xmax, vmin, vmax, nbins)\n",
    "    delta = 2\n",
    "    F_v_x0 = F[:, nbins // 2 - delta : nbins // 2 + (delta + 1)].mean(axis=1)\n",
    "\n",
    "    mask = ~np.isnan(F_v_x0)\n",
    "    ax.plot(Y[mask, 0], F_v_x0[mask], c=\"black\", alpha=0.1)\n",
    "\n",
    "plt.show()"
   ]
  }
 ],
 "metadata": {
  "kernelspec": {
   "display_name": "hopper",
   "language": "python",
   "name": "python3"
  },
  "language_info": {
   "codemirror_mode": {
    "name": "ipython",
    "version": 3
   },
   "file_extension": ".py",
   "mimetype": "text/x-python",
   "name": "python",
   "nbconvert_exporter": "python",
   "pygments_lexer": "ipython3",
   "version": "3.10.12"
  },
  "orig_nbformat": 4
 },
 "nbformat": 4,
 "nbformat_minor": 2
}
