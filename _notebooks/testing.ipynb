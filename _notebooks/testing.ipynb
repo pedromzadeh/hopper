{
 "cells": [
  {
   "attachments": {},
   "cell_type": "markdown",
   "metadata": {},
   "source": [
    "### Define configuration files"
   ]
  },
  {
   "cell_type": "code",
   "execution_count": null,
   "metadata": {},
   "outputs": [],
   "source": [
    "from box.sim_box import SimulationBox\n",
    "from potential.force import Force\n",
    "from cell.cell import Cell\n",
    "from substrate.substrates import Substrate\n",
    "from helper_functions import helper_functions as hf\n",
    "from visuals.figure import Figure\n",
    "from polarity import polarity\n",
    "\n",
    "import matplotlib.pyplot as plt\n",
    "import glob\n",
    "import pandas as pd\n",
    "import numpy as np\n",
    "import os\n",
    "import time\n",
    "from importlib import reload\n",
    "\n",
    "reload(polarity)\n",
    "\n",
    "from cell import cell\n",
    "\n",
    "reload(cell)\n",
    "from cell.cell import Cell\n",
    "\n",
    "\n",
    "im_kwargs = {\"origin\": \"lower\", \"extent\": [0, 50, 0, 50]}\n",
    "cntr_kwargs = {\n",
    "    \"origin\": \"lower\",\n",
    "    \"extent\": [0, 50, 0, 50],\n",
    "    \"colors\": [\"black\"],\n",
    "    \"linewidths\": [2],\n",
    "    \"levels\": [0.5],\n",
    "}"
   ]
  },
  {
   "attachments": {},
   "cell_type": "markdown",
   "metadata": {},
   "source": [
    "### Some random functions"
   ]
  },
  {
   "cell_type": "code",
   "execution_count": null,
   "metadata": {},
   "outputs": [],
   "source": [
    "def _masked(arr, masker):\n",
    "    arr_masked = np.ones(arr.shape) * np.nan\n",
    "    i, j = np.where(masker >= 0.5)\n",
    "    arr_masked[i, j] = arr[i, j]\n",
    "    return arr_masked\n",
    "\n",
    "\n",
    "def plot_probs(cell, p1, p2, p, c, time, p_ratio):\n",
    "    cntr = cell.contour[0][:, ::-1]\n",
    "\n",
    "    if not isinstance(p1, np.ndarray):\n",
    "        p1 = np.array([p1] * cntr.shape[0])\n",
    "\n",
    "    if not isinstance(p2, np.ndarray):\n",
    "        p2 = np.array([p2] * cntr.shape[0])\n",
    "\n",
    "    plt.figure(figsize=(6, 6))\n",
    "    plt.subplot(221)\n",
    "    plt.title(\"filopodia\")\n",
    "    plt.scatter(cntr[:, 0], cntr[:, 1], c=p1, cmap=\"coolwarm\")\n",
    "    plt.colorbar()\n",
    "\n",
    "    plt.subplot(222)\n",
    "    plt.title(\"feedback\")\n",
    "    plt.scatter(cntr[:, 0], cntr[:, 1], c=p2, cmap=\"coolwarm\")\n",
    "    plt.colorbar()\n",
    "    plt.scatter(*c, color=\"black\", s=20)\n",
    "\n",
    "    plt.subplot(223)\n",
    "    plt.title(\"total\")\n",
    "    plt.scatter(cntr[:, 0], cntr[:, 1], c=p, cmap=\"coolwarm\")\n",
    "    plt.colorbar()\n",
    "\n",
    "    plt.subplot(224)\n",
    "    plt.title(\"Tension\")\n",
    "    plt.plot(time, p_ratio)\n",
    "    plt.xlabel(\"Time\")\n",
    "    plt.ylabel(r\"$P/P_0$\")\n",
    "\n",
    "    plt.subplots_adjust(wspace=1, hspace=0.7)\n",
    "    plt.show()\n"
   ]
  },
  {
   "attachments": {},
   "cell_type": "markdown",
   "metadata": {},
   "source": [
    "### Initialize system"
   ]
  },
  {
   "cell_type": "code",
   "execution_count": null,
   "metadata": {},
   "outputs": [],
   "source": [
    "def _build_system(simbox, cell_config, cell_rng_seed):\n",
    "    # unpack\n",
    "    N_mesh, L_box = simbox.N_mesh, simbox.L_box\n",
    "\n",
    "    # define base substrate\n",
    "    sub_config = simbox.sub_config\n",
    "    xi = sub_config[\"xi\"]\n",
    "    kind = sub_config[\"kind\"]\n",
    "    sub = Substrate(N_mesh, L_box, xi)\n",
    "    if kind == \"two-state\":\n",
    "        chi = sub.two_state_sub(bridge_width=17)\n",
    "    elif kind == \"rectangular\":\n",
    "        chi = sub.rectangular()\n",
    "    else:\n",
    "        raise ValueError(f\"{kind} for substrate is not understood.\")\n",
    "\n",
    "    # initialize cells\n",
    "    cell = Cell(cell_config, simbox, cell_rng_seed)\n",
    "\n",
    "    return cell, chi\n",
    "\n",
    "\n",
    "def _define_paths(gid):\n",
    "    SIMBOX_CONFIG = f\"../configs/IM/grid_id{gid}/simbox.yaml\"\n",
    "    ENERGY_CONFIG = \"../configs/energy.yaml\"\n",
    "\n",
    "    CELL_CONFIG = f\"../configs/IM/grid_id{gid}/cell.yaml\"\n",
    "\n",
    "    return dict(\n",
    "        simbox=SIMBOX_CONFIG,\n",
    "        energy=ENERGY_CONFIG,\n",
    "        cell=CELL_CONFIG,\n",
    "    )\n"
   ]
  },
  {
   "cell_type": "code",
   "execution_count": null,
   "metadata": {},
   "outputs": [],
   "source": [
    "# define various paths\n",
    "gid = 8\n",
    "paths = _define_paths(gid)\n",
    "\n",
    "# initialize the simulation box\n",
    "simbox = SimulationBox(paths[\"simbox\"])\n",
    "seed = int(time.time())\n",
    "cell, chi = _build_system(simbox, paths[\"cell\"], cell_rng_seed=seed)\n",
    "\n",
    "# initialize the force calculator\n",
    "force_calculator = Force(paths[\"energy\"])"
   ]
  },
  {
   "attachments": {},
   "cell_type": "markdown",
   "metadata": {},
   "source": [
    "### Evolve the cell"
   ]
  },
  {
   "cell_type": "code",
   "execution_count": null,
   "metadata": {},
   "outputs": [],
   "source": [
    "from IPython import display\n",
    "import os\n",
    "\n",
    "t = []\n",
    "p_ratio = []\n",
    "save_path = f\"../output/IM/grid_id{gid}/run_0/visuals/\"\n",
    "\n",
    "N = 120000\n",
    "cap = 250\n",
    "R_ten = 1.25 * cell.R_eq\n",
    "\n",
    "if not os.path.exists(save_path):\n",
    "    os.makedirs(save_path)\n",
    "\n",
    "for n in range(N):\n",
    "    # needed more than once\n",
    "    grad_x, grad_y, _ = hf.compute_gradients(cell.phi, cell.simbox.dx)\n",
    "    grad_phi = np.array([grad_x, grad_y])\n",
    "\n",
    "    if n % cap == 0:\n",
    "        Figure.view_pol_field(cell, chi, dpi=100, path=save_path + f\"img_{n}.png\")\n",
    "        print(\n",
    "            f\"Tension activated: {polarity.shape_induced_stress(cell, perim_0=2 * np.pi * R_ten):.2f}\"\n",
    "        )\n",
    "\n",
    "    # polarization field (n+1)\n",
    "    p_field_next = polarity.update_field(cell, grad_phi, chi, n)\n",
    "\n",
    "    # phi_(n+1)\n",
    "    phi_i_next, dF_dphi = hf._update_field(cell, grad_phi, force_calculator)\n",
    "\n",
    "    # compute motility forces at time n\n",
    "    fx_motil, fy_motil = force_calculator.cyto_motility_force(cell, grad_phi, chi)\n",
    "\n",
    "    # compute thermodynamic forces at time n\n",
    "    fx_thermo = dF_dphi * grad_x\n",
    "    fy_thermo = dF_dphi * grad_y\n",
    "\n",
    "    # UPDATE class variables now\n",
    "    cell.phi = phi_i_next\n",
    "    cell.p_field = p_field_next\n",
    "    cell.contour = hf.find_contour(\n",
    "        cell.phi, interpolate=cell.pol_model_kwargs[\"interpolate_cntrs\"]\n",
    "    )\n",
    "    cell.cm = hf.compute_CM(cell)\n",
    "    cell.v_cm = hf.compute_v_CM(cell)\n",
    "    cell.vx = (fx_thermo + fx_motil) / cell.eta\n",
    "    cell.vy = (fy_thermo + fy_motil) / cell.eta\n"
   ]
  }
 ],
 "metadata": {
  "kernelspec": {
   "display_name": "hopper",
   "language": "python",
   "name": "python3"
  },
  "language_info": {
   "codemirror_mode": {
    "name": "ipython",
    "version": 3
   },
   "file_extension": ".py",
   "mimetype": "text/x-python",
   "name": "python",
   "nbconvert_exporter": "python",
   "pygments_lexer": "ipython3",
   "version": "3.10.12"
  },
  "orig_nbformat": 4,
  "vscode": {
   "interpreter": {
    "hash": "14c0dfe1de6757626902d086a1737c2ce40eb66bd3b915607a7e548f0fcc1852"
   }
  }
 },
 "nbformat": 4,
 "nbformat_minor": 2
}
