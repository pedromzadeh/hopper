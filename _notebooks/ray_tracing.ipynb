{
 "cells": [
  {
   "cell_type": "code",
   "execution_count": null,
   "metadata": {},
   "outputs": [],
   "source": [
    "from analysis.analysis import *\n",
    "import matplotlib.pyplot as plt\n",
    "import os\n",
    "\n",
    "root = \"corners_only_fixed_augmented\"\n",
    "gid = 3\n",
    "save_path = f\"../_server/sim_data/{root}/streamplots/grid {gid}/\"\n",
    "if not os.path.exists(save_path):\n",
    "    os.makedirs(save_path)"
   ]
  },
  {
   "cell_type": "markdown",
   "metadata": {},
   "source": [
    "Read a grid ID and aggregate across runs to compute $F$ and $\\sigma$"
   ]
  },
  {
   "cell_type": "code",
   "execution_count": null,
   "metadata": {},
   "outputs": [],
   "source": [
    "grid_df = read_fulltake(\n",
    "    f\"../_server/sim_data/{root}/parquets/fulltake_gid{gid}.parquet\",\n",
    "    scale_position=True,\n",
    ")\n",
    "grid_df = apply_time_filter(grid_df, dt=grid_df.iloc[0].add_rate)\n",
    "\n",
    "nbins = 32\n",
    "xva_df = get_xva_df(grid_df, nbins=nbins)\n"
   ]
  },
  {
   "attachments": {},
   "cell_type": "markdown",
   "metadata": {},
   "source": [
    "Plot of $F(x, v)$ with streamlines and $\\sigma(x, v)$"
   ]
  },
  {
   "cell_type": "code",
   "execution_count": null,
   "metadata": {},
   "outputs": [],
   "source": [
    "bounds, F, sigma = compute_F_sigma(xva_df, nbins=nbins, min_pts=10)\n",
    "\n",
    "xmin, xmax = bounds[\"x\"]\n",
    "vmin, vmax = bounds[\"v\"]\n",
    "bounds_tup = (xmin, xmax, vmin, vmax, nbins)\n",
    "\n",
    "plot_title = make_title(xva_df)\n",
    "title = {\"label\": plot_title, \"fontsize\": 20}\n",
    "\n",
    "init_pts = linear_lattice(xmin, xmax, vmin, vmax, n_pts=100)\n",
    "\n",
    "fig, ax = plt.subplots(1, 2, figsize=(11, 3.5), dpi=300)\n",
    "\n",
    "ax[0].set_title(**title)\n",
    "F_streamplot(\n",
    "    F,\n",
    "    bounds_tup,\n",
    "    stream_init_pts=init_pts,\n",
    "    imshow_kwargs={\"interpolation\": \"bilinear\", \"origin\": \"lower\", \"cmap\": \"jet\"},\n",
    "    streamplot_kwargs={\n",
    "        \"integration_direction\": \"forward\",\n",
    "        \"color\": \"black\",\n",
    "        \"broken_streamlines\": False,\n",
    "        \"density\": 1,\n",
    "        \"linewidth\": 1.5,\n",
    "    },\n",
    "    do_try=True,\n",
    "    ax=ax[0],\n",
    ")\n",
    "\n",
    "im = ax[1].imshow(\n",
    "    sigma,\n",
    "    extent=[xmin, xmax, vmin, vmax],\n",
    "    interpolation=\"bilinear\",\n",
    "    origin=\"lower\",\n",
    "    cmap=\"viridis\",\n",
    ")\n",
    "ax[1].set_xlabel(r\"$x$ ($\\mu$m)\")\n",
    "ax[1].set_ylabel(r\"$v$ ($\\mu$m/hr)\")\n",
    "cbar = plt.colorbar(im, ax=ax[1])\n",
    "cbar.set_label(r\"$\\sigma$ ($\\mu$m/hr$^{-3/2}$)\")\n",
    "ax[1].set_aspect(\"auto\")\n",
    "\n",
    "plt.subplots_adjust(wspace=0.5)\n",
    "plt.show()"
   ]
  },
  {
   "cell_type": "markdown",
   "metadata": {},
   "source": [
    "Plot $F(x\\rightarrow 0, v)$"
   ]
  },
  {
   "cell_type": "code",
   "execution_count": null,
   "metadata": {},
   "outputs": [],
   "source": [
    "X, Y, init_pts = full_lattice(F, xmin, xmax, vmin, vmax, nbins)\n",
    "\n",
    "delta = 2\n",
    "F_v_x0 = F[:, nbins // 2 - delta : nbins // 2 + (delta + 1)].mean(axis=1)\n",
    "\n",
    "fig, ax = plt.subplots(1, 1, figsize=(3, 3), dpi=300)\n",
    "mask = ~np.isnan(F_v_x0)\n",
    "ax.plot(Y[mask, 0], F_v_x0[mask], \"-o\", c=\"black\")\n",
    "ax.set_xlabel(r\"$v$ ($\\mu$m/hr)\")\n",
    "ax.set_ylabel(r\"$F(x\\rightarrow 0)$ ($\\mu$m/hr$^2$)\")\n",
    "plt.show()\n"
   ]
  },
  {
   "attachments": {},
   "cell_type": "markdown",
   "metadata": {},
   "source": [
    "Phase separation for bistable cases"
   ]
  },
  {
   "cell_type": "code",
   "execution_count": null,
   "metadata": {},
   "outputs": [],
   "source": [
    "colors = []\n",
    "\n",
    "for xx, yy in init_pts:\n",
    "    fig, ax = plt.subplots(1, 1)\n",
    "    try:\n",
    "        stream = ax.streamplot(\n",
    "            X,\n",
    "            Y,\n",
    "            Y,\n",
    "            F,\n",
    "            linewidth=0.5,\n",
    "            start_points=[[xx, yy]],\n",
    "            integration_direction=\"forward\",\n",
    "            color=\"black\",\n",
    "            broken_streamlines=False,\n",
    "            density=1,\n",
    "        )\n",
    "        streamlines = np.array(stream.lines.get_segments())\n",
    "        plt.close(fig)\n",
    "\n",
    "        if len(streamlines) == 0:\n",
    "            colors.append(\"gainsboro\")\n",
    "            continue\n",
    "\n",
    "        end_pt = streamlines[-1][-1]\n",
    "        if end_pt[0] < 133:\n",
    "            colors.append(\"salmon\")\n",
    "        elif end_pt[0] > 167:\n",
    "            colors.append(\"cornflowerblue\")\n",
    "        else:\n",
    "            colors.append(\"wheat\")\n",
    "\n",
    "    except ValueError:\n",
    "        colors.append(\"gainsboro\")\n",
    "        plt.close(fig)\n",
    "        continue\n"
   ]
  },
  {
   "cell_type": "code",
   "execution_count": null,
   "metadata": {},
   "outputs": [],
   "source": [
    "import matplotlib.patches as mpatches\n",
    "\n",
    "from importlib import reload\n",
    "from analysis import analysis\n",
    "\n",
    "reload(analysis)\n",
    "from analysis.analysis import *\n",
    "\n",
    "legend_dict = {\n",
    "    \"salmon\": mpatches.Patch(color=\"salmon\", label=\"Left\"),\n",
    "    \"cornflowerblue\": mpatches.Patch(color=\"cornflowerblue\", label=\"Right\"),\n",
    "    \"wheat\": mpatches.Patch(color=\"wheat\", label=\"Middle\"),\n",
    "}\n",
    "\n",
    "legend = []\n",
    "for c in np.unique(colors):\n",
    "    legend.append(legend_dict[c]) if c != \"gainsboro\" else None\n",
    "\n",
    "plt.figure(figsize=(3, 3), dpi=300)\n",
    "plt.vlines(\n",
    "    x=133, ymin=vmin, ymax=vmax, linewidth=1, colors=[\"black\"], linestyles=[\"dashed\"]\n",
    ")\n",
    "plt.vlines(\n",
    "    x=167, ymin=vmin, ymax=vmax, linewidth=1, colors=[\"black\"], linestyles=[\"dashed\"]\n",
    ")\n",
    "\n",
    "dx = (xmax - xmin) / nbins\n",
    "dv = (vmax - vmin) / nbins\n",
    "boundary_pts = get_boundary_points(init_pts, colors)\n",
    "# sorted_pts = break_upper_lower(boundary_pts)\n",
    "sorted_pts = TSP(boundary_pts, dx, dv)[:-4]\n",
    "\n",
    "plt.legend(handles=legend, bbox_to_anchor=(1.01, 1))\n",
    "plt.scatter(init_pts[:, 0], init_pts[:, 1], color=colors, s=5)\n",
    "plt.plot(sorted_pts[:, 0], sorted_pts[:, 1], c=\"black\", lw=2.5)\n",
    "# plt.scatter(sorted_pts[:, 0], sorted_pts[:, 1], c=\"black\", s=10)\n",
    "plt.xlabel(r\"$x$ ($\\mu$m)\")\n",
    "plt.ylabel(r\"$v$ ($\\mu$m/hr)\")\n",
    "xlim = plt.xlim()\n",
    "ylim = plt.ylim()\n",
    "plt.show()\n"
   ]
  },
  {
   "attachments": {},
   "cell_type": "markdown",
   "metadata": {},
   "source": [
    "3. View stream line bunches per each category of end point behavior"
   ]
  },
  {
   "cell_type": "code",
   "execution_count": null,
   "metadata": {},
   "outputs": [],
   "source": [
    "red_indx = np.where(np.array(colors) == \"red\")[0]\n",
    "blue_indx = np.where(np.array(colors) == \"blue\")[0]\n",
    "orange_indx = np.where(np.array(colors) == \"orange\")[0]\n"
   ]
  },
  {
   "cell_type": "code",
   "execution_count": null,
   "metadata": {},
   "outputs": [],
   "source": [
    "fig, ax = plt.subplots(1, 1, figsize=(3, 3), dpi=300)\n",
    "stream_colors = {\"red\": \"lightcoral\", \"blue\": \"lightsteelblue\", \"orange\": \"wheat\"}\n",
    "\n",
    "for indx in [red_indx, blue_indx, orange_indx]:\n",
    "    if len(indx) == 0:\n",
    "        continue\n",
    "\n",
    "    starting_pts = init_pts[indx]\n",
    "    c = colors[indx[0]]\n",
    "    stream_c = stream_colors[c]\n",
    "\n",
    "    for xx, yy in starting_pts:\n",
    "        stream = ax.streamplot(\n",
    "            X,\n",
    "            Y,\n",
    "            Y,\n",
    "            F,\n",
    "            linewidth=1,\n",
    "            start_points=[[xx, yy]],\n",
    "            integration_direction=\"forward\",\n",
    "            color=stream_c,\n",
    "            broken_streamlines=False,\n",
    "            density=1,\n",
    "        )\n",
    "        streamlines = np.array(stream.lines.get_segments())\n",
    "\n",
    "        if len(streamlines) == 0:\n",
    "            continue\n",
    "\n",
    "        start_pt = streamlines[0][0]\n",
    "        end_pt = streamlines[-1][-1]\n",
    "        ax.scatter(*end_pt, s=50, color=c, marker=\"*\", zorder=5, label=\"end\")\n",
    "        ax.set_xlim(bounds[0:2])\n",
    "        ax.set_ylim(bounds[2:4])\n",
    "        ax.set_xlabel(r\"$x$ ($\\mu$m)\")\n",
    "        ax.set_ylabel(r\"$v$ ($\\mu$m/hr)\")\n",
    "        # ax.legend(bbox_to_anchor=(1.7, 1))\n",
    "plt.savefig(save_path + f\"lattice_segments.png\")\n",
    "plt.close()\n",
    "# plt.show()\n"
   ]
  }
 ],
 "metadata": {
  "kernelspec": {
   "display_name": "hopper",
   "language": "python",
   "name": "python3"
  },
  "language_info": {
   "codemirror_mode": {
    "name": "ipython",
    "version": 3
   },
   "file_extension": ".py",
   "mimetype": "text/x-python",
   "name": "python",
   "nbconvert_exporter": "python",
   "pygments_lexer": "ipython3",
   "version": "3.10.12"
  }
 },
 "nbformat": 4,
 "nbformat_minor": 4
}
