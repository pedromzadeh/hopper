{
 "cells": [
  {
   "cell_type": "code",
   "execution_count": null,
   "metadata": {},
   "outputs": [],
   "source": [
    "import pandas as pd\n",
    "import os\n",
    "from glob import glob\n",
    "\n",
    "save_path = \"sim_data/single_run_long\"\n",
    "if not os.path.exists(save_path):\n",
    "    os.makedirs(save_path)\n",
    "\n",
    "n_gid = 32\n",
    "for gid in range(n_gid):\n",
    "    data_files = glob(f\"../output/IM/grid_id{gid}/run_*/result.csv\")\n",
    "    df_gid = []\n",
    "\n",
    "    for csv in data_files:\n",
    "        df = pd.read_csv(csv).drop(columns=[\"Unnamed: 0\"])\n",
    "        df[\"gid\"] = gid\n",
    "        df[\"rid\"] = int(csv.split(\"/\")[4].split(\"_\")[1])\n",
    "        df_gid.append(df)\n",
    "\n",
    "    # summary\n",
    "    print(f\"Grid id: {gid}\")\n",
    "    print(f\"\\t# of runs: {len(df_gid)}\")\n",
    "\n",
    "    if len(df_gid) > 0:\n",
    "        df_gid = pd.concat(df_gid)\n",
    "        df_gid.to_pickle(f\"{save_path}/fulltake_gid{gid}.pkl\")"
   ]
  },
  {
   "cell_type": "code",
   "execution_count": null,
   "metadata": {},
   "outputs": [],
   "source": []
  }
 ],
 "metadata": {
  "kernelspec": {
   "display_name": "Python 3 (ipykernel)",
   "language": "python",
   "name": "python3"
  },
  "language_info": {
   "codemirror_mode": {
    "name": "ipython",
    "version": 3
   },
   "file_extension": ".py",
   "mimetype": "text/x-python",
   "name": "python",
   "nbconvert_exporter": "python",
   "pygments_lexer": "ipython3",
   "version": "3.10.11"
  },
  "vscode": {
   "interpreter": {
    "hash": "9713f7ebc46dc75c7725b05c41e89d9728ea3866542c1de8245d612948f7117b"
   }
  }
 },
 "nbformat": 4,
 "nbformat_minor": 4
}
