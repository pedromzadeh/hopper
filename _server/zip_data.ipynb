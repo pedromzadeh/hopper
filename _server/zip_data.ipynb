{
 "cells": [
  {
   "cell_type": "code",
   "execution_count": null,
   "metadata": {},
   "outputs": [],
   "source": [
    "import pandas as pd\n",
    "from glob import glob\n",
    "\n",
    "for gid in range(8):\n",
    "    data_files = glob(f\"../output/IM/grid_id{gid}/run_*/result.csv\")\n",
    "    df_gid = []\n",
    "\n",
    "    for csv in data_files:\n",
    "        df = pd.read_csv(csv).drop(columns=[\"Unnamed: 0\"])\n",
    "        df[\"gid\"] = gid\n",
    "        df[\"rid\"] = int(csv.split(\"/\")[4].split(\"_\")[1])\n",
    "        df_gid.append(df)\n",
    "\n",
    "    df_gid = pd.concat(df_gid)\n",
    "\n",
    "    # summary\n",
    "    print(f\"Grid id: {gid}\")\n",
    "    print(f\"\\t# of runs: {len(df_gid.rid.unique())}\")\n",
    "\n",
    "    # save\n",
    "    df_gid.to_pickle(f\"fulltake_gid{gid}.pkl\")\n"
   ]
  }
 ],
 "metadata": {
  "kernelspec": {
   "display_name": "ccam",
   "language": "python",
   "name": "python3"
  },
  "language_info": {
   "name": "python",
   "version": "3.10.8"
  },
  "orig_nbformat": 4,
  "vscode": {
   "interpreter": {
    "hash": "9713f7ebc46dc75c7725b05c41e89d9728ea3866542c1de8245d612948f7117b"
   }
  }
 },
 "nbformat": 4,
 "nbformat_minor": 2
}
