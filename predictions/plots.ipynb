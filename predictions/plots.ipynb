{
 "cells": [
  {
   "cell_type": "code",
   "execution_count": 1,
   "metadata": {},
   "outputs": [],
   "source": [
    "from analysis.analysis import *\n",
    "import matplotlib.pyplot as plt\n",
    "from glob import glob\n",
    "from tqdm import tqdm\n",
    "\n",
    "\n",
    "def plot_trajectories(trajectories, control_traj, dpi=200, savepath=None):\n",
    "    fig, axs = plt.subplots(\n",
    "        len(trajectories) + 1, 1, sharex=True, sharey=True, figsize=(5, 10)\n",
    "    )\n",
    "\n",
    "    control_traj.plot(x=\"time[hr]\", y=\"x\", ax=axs[0], color=\"orange\")\n",
    "    [\n",
    "        ax.plot(\n",
    "            (np.arange(len(traj)) * 0.00075 * 8 / 60)[::500],\n",
    "            traj[::500],\n",
    "            color=\"purple\",\n",
    "        )\n",
    "        for ax, traj in zip(axs[1:], trajectories)\n",
    "    ]\n",
    "    plt.xlabel(\"Time (hr)\")\n",
    "    plt.ylabel(r\"$x (\\mu$m)\")\n",
    "    axs[0].set_title(\"Bistable\")\n",
    "    axs[0].legend([\"Sim\"], bbox_to_anchor=(1, 1))\n",
    "    axs[1].legend([\"Prediction\"], bbox_to_anchor=(1, 1))\n",
    "    if savepath is not None:\n",
    "        plt.savefig(\"bs.png\", dpi=dpi)\n",
    "    plt.show()"
   ]
  },
  {
   "cell_type": "code",
   "execution_count": 2,
   "metadata": {},
   "outputs": [
    {
     "ename": "ValueError",
     "evalue": "cannot reshape array of size 39911408 into shape (2400,240000)",
     "output_type": "error",
     "traceback": [
      "\u001b[0;31m---------------------------------------------------------------------------\u001b[0m",
      "\u001b[0;31mValueError\u001b[0m                                Traceback (most recent call last)",
      "Cell \u001b[0;32mIn[2], line 9\u001b[0m\n\u001b[1;32m      1\u001b[0m gid \u001b[38;5;241m=\u001b[39m \u001b[38;5;241m2\u001b[39m\n\u001b[1;32m      2\u001b[0m control \u001b[38;5;241m=\u001b[39m bootstrap(\n\u001b[1;32m      3\u001b[0m     read_fulltake(\n\u001b[1;32m      4\u001b[0m         \u001b[38;5;124mf\u001b[39m\u001b[38;5;124m\"\u001b[39m\u001b[38;5;124m../_server/sim_data/defaults/parquets/fulltake_gid\u001b[39m\u001b[38;5;132;01m{\u001b[39;00mgid\u001b[38;5;132;01m}\u001b[39;00m\u001b[38;5;124m.parquet\u001b[39m\u001b[38;5;124m\"\u001b[39m,\n\u001b[0;32m   (...)\u001b[0m\n\u001b[1;32m      7\u001b[0m     \u001b[38;5;241m1\u001b[39m,\n\u001b[1;32m      8\u001b[0m )\n\u001b[0;32m----> 9\u001b[0m predicted_trajs \u001b[38;5;241m=\u001b[39m \u001b[43mnp\u001b[49m\u001b[38;5;241;43m.\u001b[39;49m\u001b[43mload\u001b[49m\u001b[43m(\u001b[49m\u001b[38;5;124;43mf\u001b[39;49m\u001b[38;5;124;43m\"\u001b[39;49m\u001b[38;5;124;43mtrajs_\u001b[39;49m\u001b[38;5;132;43;01m{\u001b[39;49;00m\u001b[43mgid\u001b[49m\u001b[38;5;132;43;01m}\u001b[39;49;00m\u001b[38;5;124;43m.npy\u001b[39;49m\u001b[38;5;124;43m\"\u001b[39;49m\u001b[43m)\u001b[49m\u001b[38;5;241m.\u001b[39mreshape(\u001b[38;5;241m-\u001b[39m\u001b[38;5;241m1\u001b[39m, \u001b[38;5;241m1\u001b[39m)\n",
      "File \u001b[0;32m~/miniconda3/envs/hopper/lib/python3.10/site-packages/numpy/lib/npyio.py:456\u001b[0m, in \u001b[0;36mload\u001b[0;34m(file, mmap_mode, allow_pickle, fix_imports, encoding, max_header_size)\u001b[0m\n\u001b[1;32m    453\u001b[0m         \u001b[38;5;28;01mreturn\u001b[39;00m \u001b[38;5;28mformat\u001b[39m\u001b[38;5;241m.\u001b[39mopen_memmap(file, mode\u001b[38;5;241m=\u001b[39mmmap_mode,\n\u001b[1;32m    454\u001b[0m                                   max_header_size\u001b[38;5;241m=\u001b[39mmax_header_size)\n\u001b[1;32m    455\u001b[0m     \u001b[38;5;28;01melse\u001b[39;00m:\n\u001b[0;32m--> 456\u001b[0m         \u001b[38;5;28;01mreturn\u001b[39;00m \u001b[38;5;28;43mformat\u001b[39;49m\u001b[38;5;241;43m.\u001b[39;49m\u001b[43mread_array\u001b[49m\u001b[43m(\u001b[49m\u001b[43mfid\u001b[49m\u001b[43m,\u001b[49m\u001b[43m \u001b[49m\u001b[43mallow_pickle\u001b[49m\u001b[38;5;241;43m=\u001b[39;49m\u001b[43mallow_pickle\u001b[49m\u001b[43m,\u001b[49m\n\u001b[1;32m    457\u001b[0m \u001b[43m                                 \u001b[49m\u001b[43mpickle_kwargs\u001b[49m\u001b[38;5;241;43m=\u001b[39;49m\u001b[43mpickle_kwargs\u001b[49m\u001b[43m,\u001b[49m\n\u001b[1;32m    458\u001b[0m \u001b[43m                                 \u001b[49m\u001b[43mmax_header_size\u001b[49m\u001b[38;5;241;43m=\u001b[39;49m\u001b[43mmax_header_size\u001b[49m\u001b[43m)\u001b[49m\n\u001b[1;32m    459\u001b[0m \u001b[38;5;28;01melse\u001b[39;00m:\n\u001b[1;32m    460\u001b[0m     \u001b[38;5;66;03m# Try a pickle\u001b[39;00m\n\u001b[1;32m    461\u001b[0m     \u001b[38;5;28;01mif\u001b[39;00m \u001b[38;5;129;01mnot\u001b[39;00m allow_pickle:\n",
      "File \u001b[0;32m~/miniconda3/envs/hopper/lib/python3.10/site-packages/numpy/lib/format.py:839\u001b[0m, in \u001b[0;36mread_array\u001b[0;34m(fp, allow_pickle, pickle_kwargs, max_header_size)\u001b[0m\n\u001b[1;32m    837\u001b[0m         array \u001b[38;5;241m=\u001b[39m array\u001b[38;5;241m.\u001b[39mtranspose()\n\u001b[1;32m    838\u001b[0m     \u001b[38;5;28;01melse\u001b[39;00m:\n\u001b[0;32m--> 839\u001b[0m         array\u001b[38;5;241m.\u001b[39mshape \u001b[38;5;241m=\u001b[39m shape\n\u001b[1;32m    841\u001b[0m \u001b[38;5;28;01mreturn\u001b[39;00m array\n",
      "\u001b[0;31mValueError\u001b[0m: cannot reshape array of size 39911408 into shape (2400,240000)"
     ]
    }
   ],
   "source": [
    "gid = 2\n",
    "control = bootstrap(\n",
    "    read_fulltake(\n",
    "        f\"../_server/sim_data/defaults/parquets/fulltake_gid{gid}.parquet\",\n",
    "        scale_position=True,\n",
    "    ),\n",
    "    1,\n",
    ")\n",
    "predicted_trajs = np.load(f\"trajs_{gid}.npy\").reshape(-1, 1)"
   ]
  },
  {
   "cell_type": "code",
   "execution_count": null,
   "metadata": {},
   "outputs": [],
   "source": [
    "to_hours = 0.00075 * 8 / 60  # -> hours\n",
    "\n",
    "dwell_times = []\n",
    "long_files = []\n",
    "for f in tqdm(files, total=len(files)):\n",
    "    df = pd.read_parquet(f)\n",
    "    if df.shape[0] > 200000:\n",
    "        long_files.append(f)\n",
    "    if get_itinerary(df) is None:\n",
    "        continue\n",
    "    \n",
    "    t = np.diff(get_itinerary(df), axis=1) * to_hours\n",
    "    dwell_times.extend(list(t.ravel()))"
   ]
  },
  {
   "cell_type": "code",
   "execution_count": null,
   "metadata": {},
   "outputs": [],
   "source": [
    "plt.figure(figsize=(3, 2), dpi=100)\n",
    "plt.hist(\n",
    "    np.load(f\"../_server/sim_data/defaults/hopping times/fulltake_gid{gid}.npy\"),\n",
    "    density=True,\n",
    "    bins=40,\n",
    "    alpha=0.75,\n",
    "    color=\"black\",\n",
    "    label=\"Train\",\n",
    ")\n",
    "plt.hist(\n",
    "    dwell_times,\n",
    "    density=True,\n",
    "    bins=40,\n",
    "    alpha=0.75,\n",
    "    color=\"salmon\",\n",
    "    label=\"Test\",\n",
    ")\n",
    "plt.xlabel(\"Hopping times (hr)\")\n",
    "plt.legend()\n",
    "plt.show()"
   ]
  },
  {
   "cell_type": "code",
   "execution_count": null,
   "metadata": {},
   "outputs": [],
   "source": [
    "trajs = [pd.read_parquet(f).x.values for f in files]\n",
    "plot_trajectories(trajs[:5], control)"
   ]
  }
 ],
 "metadata": {
  "kernelspec": {
   "display_name": "hopper",
   "language": "python",
   "name": "python3"
  },
  "language_info": {
   "codemirror_mode": {
    "name": "ipython",
    "version": 3
   },
   "file_extension": ".py",
   "mimetype": "text/x-python",
   "name": "python",
   "nbconvert_exporter": "python",
   "pygments_lexer": "ipython3",
   "version": "3.10.12"
  }
 },
 "nbformat": 4,
 "nbformat_minor": 4
}
